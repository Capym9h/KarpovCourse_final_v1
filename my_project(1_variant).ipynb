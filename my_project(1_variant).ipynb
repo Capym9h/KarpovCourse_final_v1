{
 "cells": [
  {
   "cell_type": "code",
   "execution_count": 149,
   "metadata": {},
   "outputs": [],
   "source": [
    "#импорт необходимых библиотек\n",
    "import warnings\n",
    "import pandas as pd\n",
    "import numpy as np\n",
    "import seaborn as sns\n",
    "from matplotlib import pyplot as plt\n",
    "from statsmodels.stats.proportion import proportions_ztest\n",
    "from scipy import stats\n",
    "import os\n",
    "\n",
    "warnings.filterwarnings('ignore')"
   ]
  },
  {
   "cell_type": "markdown",
   "metadata": {},
   "source": [
    "----"
   ]
  },
  {
   "cell_type": "markdown",
   "metadata": {},
   "source": [
    "Представьте, что вы работаете в компании, которая разрабатывает мобильные игры. К вам пришел менеджер с рядом задач по исследованию нескольких аспектов мобильного приложения: \n",
    "\n",
    "1. В первую очередь, его интересует показатель retention. Напишите функцию для его подсчета.\n",
    "2. Помимо этого, в компании провели A/B тестирование наборов акционных предложений. На основе имеющихся данных определите, какой набор можно считать лучшим и на основе каких метрик стоит принять правильное решение.\n",
    "3. Предложите метрики для оценки результатов последнего прошедшего тематического события в игре."
   ]
  },
  {
   "cell_type": "markdown",
   "metadata": {},
   "source": [
    "# Задание 1 "
   ]
  },
  {
   "cell_type": "markdown",
   "metadata": {},
   "source": [
    "*Посмотрим данные*"
   ]
  },
  {
   "cell_type": "markdown",
   "metadata": {},
   "source": [
    "## Загрузка данных"
   ]
  },
  {
   "cell_type": "markdown",
   "metadata": {},
   "source": [
    "Зададим путь к файлам "
   ]
  },
  {
   "cell_type": "code",
   "execution_count": 150,
   "metadata": {},
   "outputs": [
    {
     "name": "stdout",
     "output_type": "stream",
     "text": [
      "File list in path=\"data/\":\n",
      "\n",
      "problem1-auth_data.csv\n",
      "problem1-reg_data.csv\n",
      "Проект_1_Задание_2.csv\n"
     ]
    }
   ],
   "source": [
    "#путь к файлам\n",
    "filepath = 'data/'\n",
    "print(f'File list in path=\"{filepath}\":\\n',*os.listdir(filepath), sep = '\\n')"
   ]
  },
  {
   "cell_type": "code",
   "execution_count": 151,
   "metadata": {},
   "outputs": [
    {
     "name": "stdout",
     "output_type": "stream",
     "text": [
      "Данные загружены: problem1-auth_data.csv\n",
      "Данные загружены: problem1-reg_data.csv\n"
     ]
    }
   ],
   "source": [
    "#загружаем\n",
    "for filename in os.listdir(filepath):\n",
    "    if not('auth' in filename or 'reg' in filename):\n",
    "        continue\n",
    "\n",
    "    if 'auth' in filename:\n",
    "        auth_data = pd.read_csv(filepath+filename, sep=';')\n",
    "    if 'reg' in filename:\n",
    "        reg_data = pd.read_csv(filepath+filename, sep=';')\n",
    "\n",
    "    print(f'Данные загружены: {filename}')"
   ]
  },
  {
   "cell_type": "markdown",
   "metadata": {},
   "source": [
    "Посмотрим на содержимое датафреймов"
   ]
  },
  {
   "cell_type": "code",
   "execution_count": 152,
   "metadata": {},
   "outputs": [
    {
     "data": {
      "text/html": [
       "<div>\n",
       "<style scoped>\n",
       "    .dataframe tbody tr th:only-of-type {\n",
       "        vertical-align: middle;\n",
       "    }\n",
       "\n",
       "    .dataframe tbody tr th {\n",
       "        vertical-align: top;\n",
       "    }\n",
       "\n",
       "    .dataframe thead th {\n",
       "        text-align: right;\n",
       "    }\n",
       "</style>\n",
       "<table border=\"1\" class=\"dataframe\">\n",
       "  <thead>\n",
       "    <tr style=\"text-align: right;\">\n",
       "      <th></th>\n",
       "      <th>auth_ts</th>\n",
       "      <th>uid</th>\n",
       "    </tr>\n",
       "  </thead>\n",
       "  <tbody>\n",
       "    <tr>\n",
       "      <th>2389898</th>\n",
       "      <td>1528148356</td>\n",
       "      <td>233762</td>\n",
       "    </tr>\n",
       "    <tr>\n",
       "      <th>8705409</th>\n",
       "      <td>1595750011</td>\n",
       "      <td>1001534</td>\n",
       "    </tr>\n",
       "    <tr>\n",
       "      <th>4385140</th>\n",
       "      <td>1559854013</td>\n",
       "      <td>334410</td>\n",
       "    </tr>\n",
       "    <tr>\n",
       "      <th>7491031</th>\n",
       "      <td>1587892020</td>\n",
       "      <td>549684</td>\n",
       "    </tr>\n",
       "    <tr>\n",
       "      <th>1438655</th>\n",
       "      <td>1501829793</td>\n",
       "      <td>74142</td>\n",
       "    </tr>\n",
       "  </tbody>\n",
       "</table>\n",
       "</div>"
      ],
      "text/plain": [
       "            auth_ts      uid\n",
       "2389898  1528148356   233762\n",
       "8705409  1595750011  1001534\n",
       "4385140  1559854013   334410\n",
       "7491031  1587892020   549684\n",
       "1438655  1501829793    74142"
      ]
     },
     "execution_count": 152,
     "metadata": {},
     "output_type": "execute_result"
    }
   ],
   "source": [
    "auth_data.sample(5)"
   ]
  },
  {
   "cell_type": "code",
   "execution_count": 153,
   "metadata": {},
   "outputs": [
    {
     "data": {
      "text/html": [
       "<div>\n",
       "<style scoped>\n",
       "    .dataframe tbody tr th:only-of-type {\n",
       "        vertical-align: middle;\n",
       "    }\n",
       "\n",
       "    .dataframe tbody tr th {\n",
       "        vertical-align: top;\n",
       "    }\n",
       "\n",
       "    .dataframe thead th {\n",
       "        text-align: right;\n",
       "    }\n",
       "</style>\n",
       "<table border=\"1\" class=\"dataframe\">\n",
       "  <thead>\n",
       "    <tr style=\"text-align: right;\">\n",
       "      <th></th>\n",
       "      <th>reg_ts</th>\n",
       "      <th>uid</th>\n",
       "    </tr>\n",
       "  </thead>\n",
       "  <tbody>\n",
       "    <tr>\n",
       "      <th>132758</th>\n",
       "      <td>1494778161</td>\n",
       "      <td>147398</td>\n",
       "    </tr>\n",
       "    <tr>\n",
       "      <th>404790</th>\n",
       "      <td>1553355002</td>\n",
       "      <td>449384</td>\n",
       "    </tr>\n",
       "    <tr>\n",
       "      <th>436976</th>\n",
       "      <td>1557375061</td>\n",
       "      <td>485090</td>\n",
       "    </tr>\n",
       "    <tr>\n",
       "      <th>428330</th>\n",
       "      <td>1556325023</td>\n",
       "      <td>475454</td>\n",
       "    </tr>\n",
       "    <tr>\n",
       "      <th>227822</th>\n",
       "      <td>1523153129</td>\n",
       "      <td>253051</td>\n",
       "    </tr>\n",
       "  </tbody>\n",
       "</table>\n",
       "</div>"
      ],
      "text/plain": [
       "            reg_ts     uid\n",
       "132758  1494778161  147398\n",
       "404790  1553355002  449384\n",
       "436976  1557375061  485090\n",
       "428330  1556325023  475454\n",
       "227822  1523153129  253051"
      ]
     },
     "execution_count": 153,
     "metadata": {},
     "output_type": "execute_result"
    }
   ],
   "source": [
    "reg_data.sample(5)"
   ]
  },
  {
   "cell_type": "markdown",
   "metadata": {},
   "source": [
    "Видим, что в каждом датафрейме поле <i><u>uid</u></i>-идентификатор пользователя, а  время <i><u>reg_ts</u></i> и <i><u>auth_ts</u></i> представлено в формате Unix timestamp\n",
    "<br>Посмотрим какой временной интервал покрывают наши данные "
   ]
  },
  {
   "cell_type": "markdown",
   "metadata": {},
   "source": [
    "## Перевод даты и времени из Unix timestamp в нормальное отображение времени и даты"
   ]
  },
  {
   "cell_type": "code",
   "execution_count": 154,
   "metadata": {},
   "outputs": [],
   "source": [
    "#напишим функцию для перевода Unix- timestamp в формат даты\n",
    "def show_data(df:pd.DataFrame, unit = None):\n",
    "    \"\"\"\n",
    "    Функция для перевода Unix timestamp в формат даты и вывод требуемой части datetime\n",
    "    Param:\n",
    "        df: pandas DataFrame\n",
    "        unit : str|None\n",
    "            None -> YYYY-MM-dd HH:MM:SS;\n",
    "            'date' -> YYYY-MM-dd;\n",
    "            'time' -> HH:MM:SS;\n",
    "            'year' -> YYYY;\n",
    "            'month' -> MM;\n",
    "            'day' -> dd;\n",
    "            'hour' -> HH;\n",
    "            'minute' -> MM;\n",
    "            'second' -> SS;\n",
    "    \"\"\"\n",
    "\n",
    "    unit_format = [None, 'date', 'time', 'year', 'month', 'day', 'hour', 'minute', 'second']\n",
    "\n",
    "    #проверяем передал ли юзер датафрейм\n",
    "    if type(df) is not pd.DataFrame:\n",
    "        return print('Датафрейм не передан')\n",
    "\n",
    "    #проверим на корректность ввода unix\n",
    "    if unit not in unit_format:\n",
    "        return print('Неверный параметр для \"unix\"')\n",
    "    \n",
    "\n",
    "    for k, v in globals().items():\n",
    "        if v is df:\n",
    "            df_name = k\n",
    "            break\n",
    "\n",
    "    col_name = df_name.split('_')[0] + '_ts'\n",
    "\n",
    "    #проверим на наличие необходимой колонки в датафрейме\n",
    "    if col_name not in df.columns:\n",
    "        print(f'Колонка \"{col_name}\" отсутствует в датафрейме {df_name}.')\n",
    "        return\n",
    "    \n",
    "    time_min = pd.to_datetime(df[col_name].min(), unit='s')\n",
    "    time_max = pd.to_datetime(df[col_name].max(), unit='s')\n",
    "    print(f'Датафрейм {df_name}')\n",
    "\n",
    "    if unit is None:\n",
    "        print(f'min {time_min}')\n",
    "        print(f'max {time_max}')\n",
    "        return\n",
    "    \n",
    "    unit = unit.lower()\n",
    "    print(f'min {unit} {eval('time_min.'+unit)}')\n",
    "    print(f'min {unit} {eval('time_max.'+unit)}')\n",
    "    "
   ]
  },
  {
   "cell_type": "code",
   "execution_count": 155,
   "metadata": {},
   "outputs": [
    {
     "name": "stdout",
     "output_type": "stream",
     "text": [
      "Датафрейм auth_data\n",
      "min year 1998\n",
      "min year 2020\n",
      "---\n",
      "Датафрейм reg_data\n",
      "min year 1998\n",
      "min year 2020\n"
     ]
    }
   ],
   "source": [
    "# приверим как работает функция\n",
    "show_data(auth_data, unit='year')\n",
    "print('---')\n",
    "show_data(reg_data, unit='year')"
   ]
  },
  {
   "cell_type": "markdown",
   "metadata": {},
   "source": [
    "Создадим в каждом из датафреймов поле с датой, понятной человеческому восприятию"
   ]
  },
  {
   "cell_type": "code",
   "execution_count": 156,
   "metadata": {},
   "outputs": [],
   "source": [
    "auth_data['date'] = pd.to_datetime(auth_data.auth_ts, unit='s')\n",
    "reg_data['date'] = pd.to_datetime(reg_data.reg_ts, unit='s')"
   ]
  },
  {
   "cell_type": "code",
   "execution_count": 157,
   "metadata": {},
   "outputs": [],
   "source": [
    "def graph_create(list_df:list[pd.DataFrame])->None:\n",
    "    '''\n",
    "    Фукнция для построения графиков активных действий пользователей по годам\n",
    "    Param:\n",
    "        list_df: список pandas датафреймов\n",
    "    Return:\n",
    "        None\n",
    "    '''\n",
    "\n",
    "    plt.figure(figsize=(10,5))\n",
    "\n",
    "    for df in list_df:\n",
    "        #находим название таблицы\n",
    "        for column in df.columns:\n",
    "            if column.endswith('_ts'):\n",
    "                df_name = column.split('_')[0]\n",
    "\n",
    "        col_name = df_name + '_count_by_year'\n",
    "        temp_df = df.copy(deep=True)\n",
    "\n",
    "        #выделяем из даты год\n",
    "        temp_df['year'] = temp_df.date.dt.year\n",
    "        temp_df = temp_df.groupby(['year'])\\\n",
    "                         .agg(cnt=('uid','count'))\\\n",
    "                         .rename(columns={'cnt':col_name})\\\n",
    "                         .reset_index()\n",
    "\n",
    "        plt.subplot(121)\n",
    "        plt.barh(temp_df['year'],\\\n",
    "                 width=temp_df[col_name],\\\n",
    "                 label = df_name)\n",
    "        plt.ylabel('Год')\n",
    "        plt.yticks(temp_df.year)\n",
    "        plt.xlabel('Количество')\n",
    "        plt.legend(loc='lower right')\n",
    "\n",
    "        #рисуем график в логарифмическом масштабе\n",
    "        plt.subplot(122)\n",
    "        plt.barh(temp_df['year'],\\\n",
    "                 width=temp_df[col_name],\\\n",
    "                 label = df_name)\n",
    "        plt.xscale('log')\n",
    "        plt.yticks(temp_df.year)\n",
    "        plt.ylabel('Год')\n",
    "        plt.xlabel('Количество/log')\n",
    "        plt.legend(loc='lower right')\n",
    "\n",
    "    plt.suptitle('Количество активных действий по годам')\n"
   ]
  },
  {
   "cell_type": "markdown",
   "metadata": {},
   "source": [
    "## Дейсвтия пользователей по годам "
   ]
  },
  {
   "cell_type": "markdown",
   "metadata": {},
   "source": [
    "Посмотрим на распределение количества действий пользователей по годам"
   ]
  },
  {
   "cell_type": "code",
   "execution_count": 158,
   "metadata": {},
   "outputs": [
    {
     "data": {
      "image/png": "[encoded data removed]",
      "text/plain": [
       "<Figure size 1000x500 with 2 Axes>"
      ]
     },
     "metadata": {},
     "output_type": "display_data"
    }
   ],
   "source": [
    "graph_create([auth_data, reg_data])"
   ]
  },
  {
   "cell_type": "markdown",
   "metadata": {},
   "source": [
    "Видно, что рост регистраций и активность пользователей в игре из года в год происходит по экспоненциальному закону."
   ]
  },
  {
   "cell_type": "markdown",
   "metadata": {},
   "source": [
    "## Проверка размеров Дф, типов данных, наличие дубликатов, NAN значений "
   ]
  },
  {
   "cell_type": "markdown",
   "metadata": {},
   "source": [
    "#### Размер датафреймов"
   ]
  },
  {
   "cell_type": "code",
   "execution_count": 159,
   "metadata": {},
   "outputs": [
    {
     "name": "stdout",
     "output_type": "stream",
     "text": [
      "Размер датафреймов:\n",
      "auth_data (9601013, 3),\n",
      "reg_data (1000000, 3)\n",
      "\n"
     ]
    }
   ],
   "source": [
    "print(f'Размер датафреймов:\\nauth_data {auth_data.shape},\\nreg_data {reg_data.shape}', end = '\\n\\n')"
   ]
  },
  {
   "cell_type": "markdown",
   "metadata": {},
   "source": [
    "#### Проверим на наличие дубликатов"
   ]
  },
  {
   "cell_type": "code",
   "execution_count": 160,
   "metadata": {},
   "outputs": [
    {
     "name": "stdout",
     "output_type": "stream",
     "text": [
      "В ДФ auth_data, дибликаты  отсутствуют\n"
     ]
    }
   ],
   "source": [
    "print('В ДФ auth_data, дибликаты ', 'отсутствуют' if auth_data.duplicated().sum() == 0 else 'имеются')"
   ]
  },
  {
   "cell_type": "code",
   "execution_count": 161,
   "metadata": {},
   "outputs": [
    {
     "name": "stdout",
     "output_type": "stream",
     "text": [
      "В ДФ reg_data, дибликаты  отсутствуют\n"
     ]
    }
   ],
   "source": [
    "print('В ДФ reg_data, дибликаты ', 'отсутствуют' if reg_data.duplicated().sum() == 0 else 'имеются')"
   ]
  },
  {
   "cell_type": "markdown",
   "metadata": {},
   "source": [
    "#### Типы данных колонок в датафреймах "
   ]
  },
  {
   "cell_type": "code",
   "execution_count": 162,
   "metadata": {},
   "outputs": [
    {
     "name": "stdout",
     "output_type": "stream",
     "text": [
      "Тип данных полей в датафреймe: auth_data\n"
     ]
    },
    {
     "data": {
      "text/plain": [
       "auth_ts             int64\n",
       "uid                 int64\n",
       "date       datetime64[ns]\n",
       "dtype: object"
      ]
     },
     "execution_count": 162,
     "metadata": {},
     "output_type": "execute_result"
    }
   ],
   "source": [
    "print(f'Тип данных полей в датафреймe: auth_data')\n",
    "auth_data.dtypes"
   ]
  },
  {
   "cell_type": "code",
   "execution_count": 163,
   "metadata": {},
   "outputs": [
    {
     "name": "stdout",
     "output_type": "stream",
     "text": [
      "Тип данных полей в датафрейме: reg_data\n"
     ]
    },
    {
     "data": {
      "text/plain": [
       "reg_ts             int64\n",
       "uid                int64\n",
       "date      datetime64[ns]\n",
       "dtype: object"
      ]
     },
     "execution_count": 163,
     "metadata": {},
     "output_type": "execute_result"
    }
   ],
   "source": [
    "print(f'Тип данных полей в датафрейме: reg_data')\n",
    "reg_data.dtypes"
   ]
  },
  {
   "cell_type": "markdown",
   "metadata": {},
   "source": [
    "#### NaN Значения "
   ]
  },
  {
   "cell_type": "code",
   "execution_count": 164,
   "metadata": {},
   "outputs": [
    {
     "name": "stdout",
     "output_type": "stream",
     "text": [
      "Количество значений NaN:\n",
      "датафрейм auth_data\n",
      "auth_ts    0\n",
      "uid        0\n",
      "date       0\n",
      "dtype: int64\n",
      "---\n",
      "датафрейм reg_data\n",
      "reg_ts    0\n",
      "uid       0\n",
      "date      0\n",
      "dtype: int64\n"
     ]
    }
   ],
   "source": [
    "print(f'Количество значений NaN:\\nдатафрейм auth_data\\n{auth_data.isna().sum()}\\n---\\nдатафрейм reg_data\\n{reg_data.isna().sum()}')"
   ]
  },
  {
   "cell_type": "markdown",
   "metadata": {},
   "source": [
    "В датафрейме <u>reg_data</u> содержаться данные о регистрации пользователей, следовательно поле <u>uid</u> должно быть уникально. Проверим это."
   ]
  },
  {
   "cell_type": "code",
   "execution_count": 165,
   "metadata": {},
   "outputs": [
    {
     "name": "stdout",
     "output_type": "stream",
     "text": [
      "Все пользователи уникальные\n"
     ]
    }
   ],
   "source": [
    "print(f'{'Все пользователи уникальные' if reg_data.uid.nunique() == reg_data.shape[0] else 'Не все пользователи уникальны'}')"
   ]
  },
  {
   "cell_type": "markdown",
   "metadata": {},
   "source": [
    "## Вывод по предворительному анализу данных в датафреймах"
   ]
  },
  {
   "cell_type": "markdown",
   "metadata": {},
   "source": [
    "* Все значения представлены в типе данных int64\n",
    "* Размер датафреймов различный\n",
    "\t* auth_data (9601013, 2),\n",
    "\t* reg_data (1000000, 2), что не удивительно, ведь действий (вход в игру) больше, чем регистраций \n",
    "* Время в датафреймах в виде Unix timestamp. Данные покрывают временной диапазон с 1998 по 2020 года\n",
    "* Пропущенных значений нет\n",
    "* Дубликатов данных нет"
   ]
  },
  {
   "cell_type": "markdown",
   "metadata": {},
   "source": [
    "---"
   ]
  },
  {
   "cell_type": "code",
   "execution_count": 166,
   "metadata": {},
   "outputs": [
    {
     "data": {
      "text/html": [
       "<div>\n",
       "<style scoped>\n",
       "    .dataframe tbody tr th:only-of-type {\n",
       "        vertical-align: middle;\n",
       "    }\n",
       "\n",
       "    .dataframe tbody tr th {\n",
       "        vertical-align: top;\n",
       "    }\n",
       "\n",
       "    .dataframe thead th {\n",
       "        text-align: right;\n",
       "    }\n",
       "</style>\n",
       "<table border=\"1\" class=\"dataframe\">\n",
       "  <thead>\n",
       "    <tr style=\"text-align: right;\">\n",
       "      <th></th>\n",
       "      <th>auth_ts</th>\n",
       "      <th>uid</th>\n",
       "      <th>date</th>\n",
       "    </tr>\n",
       "  </thead>\n",
       "  <tbody>\n",
       "    <tr>\n",
       "      <th>0</th>\n",
       "      <td>911382223</td>\n",
       "      <td>1</td>\n",
       "      <td>1998-11-18 09:43:43</td>\n",
       "    </tr>\n",
       "    <tr>\n",
       "      <th>1</th>\n",
       "      <td>932683089</td>\n",
       "      <td>2</td>\n",
       "      <td>1999-07-22 22:38:09</td>\n",
       "    </tr>\n",
       "    <tr>\n",
       "      <th>2</th>\n",
       "      <td>932921206</td>\n",
       "      <td>2</td>\n",
       "      <td>1999-07-25 16:46:46</td>\n",
       "    </tr>\n",
       "    <tr>\n",
       "      <th>3</th>\n",
       "      <td>933393015</td>\n",
       "      <td>2</td>\n",
       "      <td>1999-07-31 03:50:15</td>\n",
       "    </tr>\n",
       "    <tr>\n",
       "      <th>4</th>\n",
       "      <td>933875379</td>\n",
       "      <td>2</td>\n",
       "      <td>1999-08-05 17:49:39</td>\n",
       "    </tr>\n",
       "  </tbody>\n",
       "</table>\n",
       "</div>"
      ],
      "text/plain": [
       "     auth_ts  uid                date\n",
       "0  911382223    1 1998-11-18 09:43:43\n",
       "1  932683089    2 1999-07-22 22:38:09\n",
       "2  932921206    2 1999-07-25 16:46:46\n",
       "3  933393015    2 1999-07-31 03:50:15\n",
       "4  933875379    2 1999-08-05 17:49:39"
      ]
     },
     "execution_count": 166,
     "metadata": {},
     "output_type": "execute_result"
    }
   ],
   "source": [
    "auth_data.head()"
   ]
  },
  {
   "cell_type": "markdown",
   "metadata": {},
   "source": [
    " ## Решение: Задание\n",
    " *В первую очередь, его интересует показатель retention. Напишите функцию для его подсчета.*\n",
    " <br>**Retention** – один из самых важных показателей в компании. <br>Ваша задача – написать функцию, которая будет считать retention игроков (по дням от даты регистрации игрока)."
   ]
  },
  {
   "cell_type": "markdown",
   "metadata": {},
   "source": [
    "### Напишем функцию для *Retention*"
   ]
  },
  {
   "cell_type": "code",
   "execution_count": 167,
   "metadata": {},
   "outputs": [],
   "source": [
    "def retention_calc(\n",
    "                reg_df:pd.DataFrame,\n",
    "                auth_df:pd.DataFrame,\n",
    "                start_date:pd.Timestamp = None,\n",
    "                day_count:int = 7,\n",
    "\t\t\t\treturn_df:bool = True)->pd.DataFrame:\n",
    "\t'''\n",
    "\t\tФункция для рассчета retantion rate\n",
    "\t\tParam:\n",
    "\t\t\treg_df (pd.DataFrame): датафрейм с информацией о регистрации пользователей\n",
    "\t\t\t-uid-идентификатор пользователя)\n",
    "\t\t\t-reg_ts - Unix Timestamp дата регистрации\n",
    "\t\t\t\n",
    "\t\t\tauth_df (pd.DataFrame): датафрейм с информацией о активности пользователей\n",
    "\t\t\t\t- uid - Уникальный идентификатор пользователя\n",
    "\t\t\t\t- date - дата в формате Unix Timestamp\n",
    "\t\t\t\n",
    "\t\t\tstart_date (pd.Timestamp, опционально): Дата начала для расчета Retention\n",
    "\t\t\t\n",
    "\t\t\tday_count (int): Количество дней для вычисления Retention\n",
    "\t\t\t\n",
    "\t\t\treturn_df (bool): флаг, указывающей необходимол ли возвращать итоговый датафрейм\n",
    "\t\t\n",
    "\t\tReturn:\n",
    "\t\t\tpd.DataFrame (опционально): итоговый датафрейм\n",
    "\t\t\tplt.Figure: тепловая карта (Heatmap) с визуализацией Retention\n",
    "\t'''\n",
    "\t#проверим переданы ли датафреймы\n",
    "\tif not(isinstance(reg_df, pd.DataFrame) and isinstance(auth_df, pd.DataFrame)):\n",
    "\t\tprint('Не верный формат датафреймов')\n",
    "\t\treturn\n",
    "\n",
    "\t#проверим чтобы передано было число в параметре day_count\n",
    "\tif not isinstance(day_count, int):\n",
    "\t\tprint('Не верный формат day_count, установлено значение по умолчанию (day_count=7)')\n",
    "\t\tday_count = 7\n",
    "\n",
    "\t#если дата начала не передана,то берем максимальную дату и отнимаем от нее day_count\n",
    "\tif start_date is None:\n",
    "\t\tstart_date = reg_df.date.max()\n",
    "\t\tend_date = start_date - pd.Timedelta(days=day_count)\n",
    "\t\tstart_date, end_date = end_date, start_date\n",
    "\n",
    "\t#если дата передана в формате Unix Timestamp или в формате строки '2020-02-28'\n",
    "\t#(float нужен для того, чтобы не ловить ошибку если получаем дату функцией pd.Timestamp('2020-02-28').timestamp() которая возвращает значение 1582848000.0 (float))\n",
    "\tif isinstance(start_date, (int, float, str)):\n",
    "\t\tif isinstance(start_date, (int, float)):\n",
    "\t\t\tstart_date = pd.to_datetime(start_date, unit='s')\n",
    "\t\t\t#проверим переданное значение,что оно лежит в допустимом интервале дат\n",
    "\t\t\tif start_date >= reg_df.date.max():\n",
    "\t\t\t\tstart_date = reg_df.date.max() - pd.Timedelta(days=day_count)\n",
    "\t\t\t\tend_date = reg_df.date.max()\n",
    "\t\t\telse:\n",
    "\t\t\t\tend_date = start_date + pd.Timedelta(days=day_count)\n",
    "\n",
    "\t\t#кроме того, может нам будет удобнее передовать в формате YYYY-MM-DD HH:MM:SS\n",
    "\t\telif isinstance(start_date, str):\n",
    "\t\t\tstart_date = pd.to_datetime(start_date)\n",
    "\t\t\t#проверим переданное значение даты\n",
    "\t\t\tif start_date >= reg_df.date.max():\n",
    "\t\t\t\tstart_date = reg_df.date.max() - pd.Timedelta(days=day_count)\n",
    "\t\t\t\tend_date = reg_df.date.max()\n",
    "\t\t\telse:\n",
    "\t\t\t\tend_date = start_date + pd.Timedelta(days=day_count)\n",
    "\n",
    "\t#для исключения изменений основных датафреймов (мы передаем ссылку на объект), необходимо сделать глубокую копию\n",
    "\treg_df = reg_df.copy(deep=True)\n",
    "\tauth_df = auth_df.copy(deep=True)\n",
    "\n",
    "\t#фильтруем данные подходящие под наш интервал времени\n",
    "\treg_df = reg_df.loc[(reg_df.date >= start_date)&(reg_df.date <= end_date)]\n",
    "\tauth_df = auth_df.loc[(auth_df.date >= start_date)&(auth_df.date <= end_date)]\n",
    "\n",
    "\treg_df.date= reg_df.date.dt.date\n",
    "\tauth_df.date= auth_df.date.dt.date\n",
    "\n",
    "\t#Делаем merge двух датафреймов и выделаем из полученной таблицы только нужные столбцы\n",
    "\ttemp_df = pd.merge(\tleft=reg_df,\n",
    "\t\t\t\t\t\tright=auth_df, \n",
    "\t\t\t\t\t\ton='uid',\n",
    "\t\t\t\t\t\tsuffixes=['_reg','_auth'],\n",
    "\t\t\t\t\t\thow='inner')[['uid','date_reg','date_auth']]\n",
    "\t\n",
    "\t#гурппируем данные по дате регистрации и активности, в полученных группах считаем количество уникальных пользователей\n",
    "\ttemp_df = temp_df.groupby(['date_reg','date_auth'])\\\n",
    "\t\t\t\t\t.agg(user_cnt=('uid','nunique'))\\\n",
    "\t\t\t\t\t.reset_index()\n",
    "\t\n",
    "\t#после группировки столбцы date_reg и date_auth теряют тип данных pd.datetime (почему??????), поэтому приходиться делать явное преобразование\n",
    "\ttemp_df['date_reg'] = pd.to_datetime(temp_df.date_reg)\n",
    "\ttemp_df['date_auth'] = pd.to_datetime(temp_df.date_auth)\n",
    "\n",
    "\t#создаем столбец days в котором будет храниться количество дней прошедших с момента регистрации, до момента активности пользователя\n",
    "\ttemp_df['days'] = (temp_df.date_auth - temp_df.date_reg).dt.days\n",
    "\n",
    "\t#разворачиваем таблицу таким образом, чтобы в строках оказались даты регистрации, в столбцах количество прошедших дней, а значениями выступали количество уникальных пользователей\n",
    "\ttemp_df = temp_df.pivot_table(\tcolumns ='days', \n",
    "\t\t\t\t\t\t\t\t\tindex='date_reg', \n",
    "\t\t\t\t\t\t\t\t\tvalues='user_cnt').rename_axis('Registration_date')\n",
    "\t\n",
    "\t#считаем ретеншен, это количество уникальных пользователей в поле days деленное на общее количество зарегистрировавшихся людей до этого дня, и сразу режим получившийся датафрейм на необходимое количество дней (day_count)\n",
    "\tretention = temp_df.divide(temp_df.iloc[:,0], axis=0).iloc[:,:day_count+1]\n",
    "\n",
    "\t# убираем первую строку, и убираем NaN значения\n",
    "\tretention = retention.drop(retention.columns[0], axis=1).fillna(0)\n",
    "\t\n",
    "    #формируем визуализацию\n",
    "\tplt.figure(figsize=(10, 6))\n",
    "\tsns.heatmap(retention, \n",
    "\t\t\t\tannot=True, \n",
    "\t\t\t\tfmt=\".0%\", \n",
    "\t\t\t\tcmap=\"Blues\", \n",
    "\t\t\t\tcbar_kws={'label': 'Retention Rate / %'})\n",
    "\tplt.title(f\"Retention для периода {start_date.date()}/{(start_date + pd.Timedelta(days = day_count)).date()}\")\n",
    "\tplt.yticks(ticks=range(len(retention.index)), labels=retention.index.strftime('%Y-%m-%d'), rotation=0)\n",
    "\tplt.xlabel(\"Дней с момента регистарции\")\n",
    "\tplt.ylabel(\"День регистрации\")\n",
    "\tplt.show()\n",
    "\n",
    "\tif return_df:\n",
    "\t\treturn retention"
   ]
  },
  {
   "cell_type": "markdown",
   "metadata": {},
   "source": [
    "Проверим написанную функцию"
   ]
  },
  {
   "cell_type": "code",
   "execution_count": null,
   "metadata": {},
   "outputs": [
    {
     "data": {
      "image/png": "[encoded data removed]",
      "text/plain": [
       "<Figure size 1000x600 with 2 Axes>"
      ]
     },
     "metadata": {},
     "output_type": "display_data"
    }
   ],
   "source": [
    "retention_calc(reg_data, auth_data, return_df=False, day_count=7)"
   ]
  },
  {
   "cell_type": "markdown",
   "metadata": {},
   "source": [
    "Функция разработана и ее работоспособность проверена"
   ]
  },
  {
   "cell_type": "markdown",
   "metadata": {},
   "source": [
    "---"
   ]
  },
  {
   "cell_type": "markdown",
   "metadata": {},
   "source": [
    "# Задание 2\n",
    "Имеются результаты A/B теста, в котором двум группам пользователей предлагались различные наборы акционных предложений.\n",
    "Известно, что ARPU в тестовой группе выше на 5%, чем в контрольной. При этом в контрольной группе 1928 игроков из 202103 оказались платящими, а в тестовой – 1805 из 202667.\n",
    "\n",
    "Какой набор предложений можно считать лучшим? Какие метрики стоит проанализировать для принятия правильного решения и как?"
   ]
  },
  {
   "cell_type": "markdown",
   "metadata": {},
   "source": [
    "## Посмотрим данные"
   ]
  },
  {
   "cell_type": "code",
   "execution_count": 169,
   "metadata": {},
   "outputs": [
    {
     "data": {
      "text/html": [
       "<div>\n",
       "<style scoped>\n",
       "    .dataframe tbody tr th:only-of-type {\n",
       "        vertical-align: middle;\n",
       "    }\n",
       "\n",
       "    .dataframe tbody tr th {\n",
       "        vertical-align: top;\n",
       "    }\n",
       "\n",
       "    .dataframe thead th {\n",
       "        text-align: right;\n",
       "    }\n",
       "</style>\n",
       "<table border=\"1\" class=\"dataframe\">\n",
       "  <thead>\n",
       "    <tr style=\"text-align: right;\">\n",
       "      <th></th>\n",
       "      <th>user_id</th>\n",
       "      <th>revenue</th>\n",
       "      <th>testgroup</th>\n",
       "    </tr>\n",
       "  </thead>\n",
       "  <tbody>\n",
       "    <tr>\n",
       "      <th>81683</th>\n",
       "      <td>81684</td>\n",
       "      <td>0</td>\n",
       "      <td>b</td>\n",
       "    </tr>\n",
       "    <tr>\n",
       "      <th>110615</th>\n",
       "      <td>110616</td>\n",
       "      <td>0</td>\n",
       "      <td>b</td>\n",
       "    </tr>\n",
       "    <tr>\n",
       "      <th>65294</th>\n",
       "      <td>65295</td>\n",
       "      <td>0</td>\n",
       "      <td>b</td>\n",
       "    </tr>\n",
       "    <tr>\n",
       "      <th>167213</th>\n",
       "      <td>167214</td>\n",
       "      <td>0</td>\n",
       "      <td>a</td>\n",
       "    </tr>\n",
       "    <tr>\n",
       "      <th>307094</th>\n",
       "      <td>307095</td>\n",
       "      <td>0</td>\n",
       "      <td>b</td>\n",
       "    </tr>\n",
       "  </tbody>\n",
       "</table>\n",
       "</div>"
      ],
      "text/plain": [
       "        user_id  revenue testgroup\n",
       "81683     81684        0         b\n",
       "110615   110616        0         b\n",
       "65294     65295        0         b\n",
       "167213   167214        0         a\n",
       "307094   307095        0         b"
      ]
     },
     "execution_count": 169,
     "metadata": {},
     "output_type": "execute_result"
    }
   ],
   "source": [
    "#загрузка данных\n",
    "task2_df = pd.read_csv('data/Проект_1_Задание_2.csv', sep=';') \n",
    "task2_df.sample(5)"
   ]
  },
  {
   "cell_type": "markdown",
   "metadata": {},
   "source": [
    "#### Размер датафрейма"
   ]
  },
  {
   "cell_type": "code",
   "execution_count": 170,
   "metadata": {},
   "outputs": [
    {
     "data": {
      "text/plain": [
       "(404770, 3)"
      ]
     },
     "execution_count": 170,
     "metadata": {},
     "output_type": "execute_result"
    }
   ],
   "source": [
    "task2_df.shape"
   ]
  },
  {
   "cell_type": "markdown",
   "metadata": {},
   "source": [
    "#### Посмотрим тип данных и пропуски"
   ]
  },
  {
   "cell_type": "code",
   "execution_count": 171,
   "metadata": {},
   "outputs": [
    {
     "name": "stdout",
     "output_type": "stream",
     "text": [
      "Колонка\t\tТипы данных\tПропуски\n",
      "user_id              int64           Нет       \n",
      "revenue              int64           Нет       \n",
      "testgroup            object          Нет       \n"
     ]
    }
   ],
   "source": [
    "print('Колонка\\t\\tТипы данных\\tПропуски')\n",
    "for column in task2_df.columns:\n",
    "    has_missing = 'Нет' if task2_df[column].isna().sum()==0 else 'Да'\n",
    "    print(f'{column:<20} {str(task2_df[column].dtype):<15} {has_missing:<10}')"
   ]
  },
  {
   "cell_type": "markdown",
   "metadata": {},
   "source": [
    "#### Посмотрим все ли пользователи уникальные"
   ]
  },
  {
   "cell_type": "code",
   "execution_count": 172,
   "metadata": {},
   "outputs": [
    {
     "name": "stdout",
     "output_type": "stream",
     "text": [
      "Все пользователи уникальные\n"
     ]
    }
   ],
   "source": [
    "print('Все пользователи уникальные' if task2_df.user_id.nunique()==task2_df.shape[0] else 'Не все пользователи уникальные')"
   ]
  },
  {
   "cell_type": "markdown",
   "metadata": {},
   "source": [
    "#### Проверим есть ли дубликаты"
   ]
  },
  {
   "cell_type": "code",
   "execution_count": 173,
   "metadata": {},
   "outputs": [
    {
     "name": "stdout",
     "output_type": "stream",
     "text": [
      "В ДФ task2_df, дибликаты  отсутствуют\n"
     ]
    }
   ],
   "source": [
    "print('В ДФ task2_df, дибликаты ', 'отсутствуют' if task2_df.duplicated().sum() == 0 else 'имеются')"
   ]
  },
  {
   "cell_type": "markdown",
   "metadata": {},
   "source": [
    "#### Посмотрим количество пользователей в разных группах **a** и **b**"
   ]
  },
  {
   "cell_type": "code",
   "execution_count": 174,
   "metadata": {},
   "outputs": [
    {
     "data": {
      "text/html": [
       "<div>\n",
       "<style scoped>\n",
       "    .dataframe tbody tr th:only-of-type {\n",
       "        vertical-align: middle;\n",
       "    }\n",
       "\n",
       "    .dataframe tbody tr th {\n",
       "        vertical-align: top;\n",
       "    }\n",
       "\n",
       "    .dataframe thead th {\n",
       "        text-align: right;\n",
       "    }\n",
       "</style>\n",
       "<table border=\"1\" class=\"dataframe\">\n",
       "  <thead>\n",
       "    <tr style=\"text-align: right;\">\n",
       "      <th></th>\n",
       "      <th>user_cnt</th>\n",
       "    </tr>\n",
       "    <tr>\n",
       "      <th>testgroup</th>\n",
       "      <th></th>\n",
       "    </tr>\n",
       "  </thead>\n",
       "  <tbody>\n",
       "    <tr>\n",
       "      <th>a</th>\n",
       "      <td>202103</td>\n",
       "    </tr>\n",
       "    <tr>\n",
       "      <th>b</th>\n",
       "      <td>202667</td>\n",
       "    </tr>\n",
       "  </tbody>\n",
       "</table>\n",
       "</div>"
      ],
      "text/plain": [
       "           user_cnt\n",
       "testgroup          \n",
       "a            202103\n",
       "b            202667"
      ]
     },
     "execution_count": 174,
     "metadata": {},
     "output_type": "execute_result"
    }
   ],
   "source": [
    "task2_df.groupby(['testgroup']).agg(user_cnt=('user_id','nunique'))"
   ]
  },
  {
   "cell_type": "markdown",
   "metadata": {},
   "source": [
    "#### Посмотрим число платящих пользователей, min, max, mean, median оплаты "
   ]
  },
  {
   "cell_type": "code",
   "execution_count": 175,
   "metadata": {},
   "outputs": [
    {
     "name": "stdout",
     "output_type": "stream",
     "text": [
      "Число платящих пользоватлей:  3733\n",
      "Минимальная 200, максимальная плата 37433\n",
      "Средняя оплата (mean) 2828.2, медианная оплата (median) 2052.0\n"
     ]
    }
   ],
   "source": [
    "# выберем всех пользователей вне зависимости от группы, которые совершали оплату\n",
    "temp = task2_df.revenue.loc[task2_df.revenue != 0]\n",
    "print('Число платящих пользоватлей: ',temp.count())\n",
    "print(f'Минимальная {temp.min()}, максимальная плата {temp.max()}')\n",
    "print(f'Средняя оплата (mean) {round(temp.mean(),1)}, медианная оплата (median) {temp.median()}')\n",
    "\n",
    "del temp"
   ]
  },
  {
   "cell_type": "markdown",
   "metadata": {},
   "source": [
    "#### Распределение revenue по группам"
   ]
  },
  {
   "cell_type": "code",
   "execution_count": 176,
   "metadata": {},
   "outputs": [
    {
     "data": {
      "image/png": "[encoded data removed]",
      "text/plain": [
       "<Figure size 640x480 with 1 Axes>"
      ]
     },
     "metadata": {},
     "output_type": "display_data"
    }
   ],
   "source": [
    "#построим распределение revenue от групп\n",
    "plt.suptitle('Revenue per groups')\n",
    "sns.boxplot(data=task2_df, x='testgroup', y='revenue')\n",
    "plt.grid()\n",
    "plt.show()"
   ]
  },
  {
   "cell_type": "markdown",
   "metadata": {},
   "source": [
    "В группе *a* наблюдаются пользователи, которые платят более 30000, что сильно вывбивается из общей картины"
   ]
  },
  {
   "cell_type": "code",
   "execution_count": 177,
   "metadata": {},
   "outputs": [
    {
     "data": {
      "image/png": "[encoded data removed]",
      "text/plain": [
       "<Figure size 640x480 with 1 Axes>"
      ]
     },
     "metadata": {},
     "output_type": "display_data"
    }
   ],
   "source": [
    "#построим boxplot исключив пользователей с аномально большим значением revenue в группе a\n",
    "#а также, исключим всех пользоватлей кто не платил, так как из-за них, весь boxplot смещен к 0\n",
    "plt.suptitle('Revenue per groups')\n",
    "sns.boxplot(data=task2_df.loc[(task2_df.revenue<35000)&(task2_df.revenue != 0)], x='testgroup',y='revenue')\n",
    "plt.grid()\n",
    "plt.show()"
   ]
  },
  {
   "cell_type": "markdown",
   "metadata": {},
   "source": [
    "Посмотрим сколько пользователей платят более 30000"
   ]
  },
  {
   "cell_type": "code",
   "execution_count": 178,
   "metadata": {},
   "outputs": [
    {
     "name": "stdout",
     "output_type": "stream",
     "text": [
      "Количество данных с revenue > 30000:  123\n"
     ]
    }
   ],
   "source": [
    "print('Количество данных с revenue > 30000: ', task2_df.query('revenue>30000').shape[0])"
   ]
  },
  {
   "cell_type": "markdown",
   "metadata": {},
   "source": [
    "Посмотрим распределение пользователей из группы *a* с revenue более 30000"
   ]
  },
  {
   "cell_type": "code",
   "execution_count": 179,
   "metadata": {},
   "outputs": [
    {
     "data": {
      "image/png": "[encoded data removed]",
      "text/plain": [
       "<Figure size 500x500 with 1 Axes>"
      ]
     },
     "metadata": {},
     "output_type": "display_data"
    }
   ],
   "source": [
    "sns.displot(data=task2_df.query('testgroup==\"a\" and revenue>30000'), x='revenue', bins=30, kde=True)\n",
    "plt.grid()\n",
    "plt.title('Распределение пользователей с revenue>30000')\n",
    "plt.ylabel('Количество')\n",
    "plt.show()"
   ]
  },
  {
   "cell_type": "markdown",
   "metadata": {},
   "source": [
    "Посмотрим какую часть выручки делают эти пользователи"
   ]
  },
  {
   "cell_type": "code",
   "execution_count": 180,
   "metadata": {},
   "outputs": [
    {
     "name": "stdout",
     "output_type": "stream",
     "text": [
      "Пользователи с revenue > 30000 делают  89.0 % от общей выручки группы \"a\"\n"
     ]
    }
   ],
   "source": [
    "print('Пользователи с revenue > 30000 делают ',round(task2_df.query('revenue > 30000 and testgroup==\"a\"').revenue.sum()/task2_df.query('testgroup==\"a\"').revenue.sum(), 2)*100, '% от общей выручки группы \"a\"')"
   ]
  },
  {
   "cell_type": "markdown",
   "metadata": {},
   "source": [
    "##### Сделаем описательную статистику для колонки Revenue для разных групп пользователей"
   ]
  },
  {
   "cell_type": "code",
   "execution_count": 181,
   "metadata": {},
   "outputs": [
    {
     "name": "stdout",
     "output_type": "stream",
     "text": [
      "Revenue a Testgroup\n"
     ]
    },
    {
     "data": {
      "text/plain": [
       "count    1805.000000\n",
       "mean      302.458172\n",
       "std        57.914246\n",
       "min       200.000000\n",
       "25%       254.000000\n",
       "50%       305.000000\n",
       "75%       352.000000\n",
       "max       400.000000\n",
       "Name: revenue, dtype: float64"
      ]
     },
     "execution_count": 181,
     "metadata": {},
     "output_type": "execute_result"
    }
   ],
   "source": [
    "#Посмотрим описательную статистику для колонки revenue Для разных групп\n",
    "print('Revenue a Testgroup')\n",
    "task2_df.query('testgroup==\"a\" and revenue<30000 and revenue!=0').revenue.describe()"
   ]
  },
  {
   "cell_type": "code",
   "execution_count": 182,
   "metadata": {},
   "outputs": [
    {
     "name": "stdout",
     "output_type": "stream",
     "text": [
      "Revenue b Testgroup\n"
     ]
    },
    {
     "data": {
      "text/plain": [
       "count    1805.000000\n",
       "mean     3003.658172\n",
       "std       572.619709\n",
       "min      2000.000000\n",
       "25%      2513.000000\n",
       "50%      3022.000000\n",
       "75%      3478.000000\n",
       "max      4000.000000\n",
       "Name: revenue, dtype: float64"
      ]
     },
     "execution_count": 182,
     "metadata": {},
     "output_type": "execute_result"
    }
   ],
   "source": [
    "print('Revenue b Testgroup')\n",
    "task2_df.query('testgroup==\"b\" and revenue!=0').revenue.describe()"
   ]
  },
  {
   "cell_type": "markdown",
   "metadata": {},
   "source": [
    "##### Распределение Revenue "
   ]
  },
  {
   "cell_type": "markdown",
   "metadata": {},
   "source": [
    "Распределение revenue в группе *a*"
   ]
  },
  {
   "cell_type": "code",
   "execution_count": 183,
   "metadata": {},
   "outputs": [
    {
     "data": {
      "image/png": "[encoded data removed]",
      "text/plain": [
       "<Figure size 1000x800 with 3 Axes>"
      ]
     },
     "metadata": {},
     "output_type": "display_data"
    }
   ],
   "source": [
    "fig, (ax1, ax2, ax3) = plt.subplots(3, 1, figsize=(10,8))\n",
    "plt.suptitle('Testgroup=\"a\"')\n",
    "\n",
    "sns.histplot(data=task2_df.query('testgroup==\"a\"'), x='revenue', ax=ax1)\n",
    "ax1.set_title('Распределение revenue')\n",
    "# ax1.\n",
    "ax1.grid(True)\n",
    "\n",
    "sns.histplot(data=task2_df.query('testgroup==\"a\" and revenue > 0'), x='revenue', ax=ax2)\n",
    "ax2.set_title('Revenue без учета не платящих пользователей')\n",
    "ax2.grid(True)\n",
    "\n",
    "sns.histplot(data=task2_df.query('testgroup==\"a\" and (revenue > 0 and revenue < 30000)'), x='revenue', ax=ax3, bins=40)\n",
    "ax3.set_title('Распределение revenue без учета не платящих пользователей и пользователей с revenue > 30000')\n",
    "ax3.grid(True)\n",
    "\n",
    "plt.tight_layout()"
   ]
  },
  {
   "cell_type": "markdown",
   "metadata": {},
   "source": [
    "Распределение revenue в группе *b*"
   ]
  },
  {
   "cell_type": "code",
   "execution_count": 184,
   "metadata": {},
   "outputs": [
    {
     "data": {
      "image/png": "[encoded data removed]",
      "text/plain": [
       "<Figure size 1000x800 with 2 Axes>"
      ]
     },
     "metadata": {},
     "output_type": "display_data"
    }
   ],
   "source": [
    "fig, (ax1, ax2) = plt.subplots(2, 1, figsize=(10,8))\n",
    "plt.suptitle('Testgroup=\"b\"')\n",
    "\n",
    "sns.histplot(data=task2_df.query('testgroup==\"b\"'), x='revenue', ax=ax1)\n",
    "ax1.set_title('Распределение revenue')\n",
    "# ax1.\n",
    "ax1.grid(True)\n",
    "\n",
    "sns.histplot(data=task2_df.query('testgroup==\"b\" and revenue > 0'), x='revenue', ax=ax2, bins=40)\n",
    "ax2.set_title('Revenue без учета не платящих пользователей')\n",
    "ax2.grid(True)\n",
    "\n",
    "plt.tight_layout()"
   ]
  },
  {
   "cell_type": "markdown",
   "metadata": {},
   "source": [
    "### Выводы по предварительному анализу датафрейма "
   ]
  },
  {
   "cell_type": "markdown",
   "metadata": {},
   "source": [
    "* Датафрейм состоит из 3 столбцов: \t*user_id*, *revenue*, *testgroup*\n",
    "* Размер датафрейма *404770 и 3*, строк и столбцов соответственно \n",
    "* Типы данных: **user_id** - *int64*, **revenue** - *int64*, **testgroup** - *object*\n",
    "* Пропущенные значения (NaN) отсутствуют\n",
    "* Все пользователи (**user_id**) являются уникальными\n",
    "* Дубликаты отсутствуют\n",
    "* Колонка **testgroup** содержит буквенное обозначение группы (*a*,*b*) в которую пользователь входит. \n",
    "* Количество пользоватлей в группе: \n",
    "\t* **a** - 202103\n",
    "\t* **b** - 202667\n",
    "* Из всего набора данных только *3733* пользователя совершали покупки\n",
    "* Минимальная покупка - 200, максимальная - *37433*\n",
    "* Среднее значение (mean): *2828.2*\n",
    "* Медианное значение(median, 50%): *2052*\n",
    "* Из графика boxplot видно, что размер **revenue** в группе *b* выросло существенно. В группе **а** **revenue** не превышает 500 (min=200, max=400), в то время как в групе *b* revenue лежит в диапазоне от min=2000 до max=4000. \n",
    "* Среднее значение группы **a** (после исключения сильно отклоняющихся значений) Xmean=302, группы b Xmean=3003. \n",
    "* Медианное **a** - 305, **b** - 3022 (различие на порядок!!!!)\n",
    "* стандартное отклонение: **a** - std = 57.9, **b** - std = 572.6\n",
    "* В группе **a** наблюдаются 123 значения (более 30000), значитально отклоняющиеся от остальных"
   ]
  },
  {
   "cell_type": "markdown",
   "metadata": {},
   "source": [
    "---"
   ]
  },
  {
   "cell_type": "markdown",
   "metadata": {},
   "source": [
    "## Переходим к решению задачи"
   ]
  },
  {
   "cell_type": "markdown",
   "metadata": {},
   "source": [
    "Имеются результаты A/B теста, в котором двум группам пользователей предлагались различные наборы акционных предложений. Известно, что ARPU в тестовой группе выше на 5%, чем в контрольной. \n",
    "<br>При этом в контрольной группе 1928 игроков из 202103 оказались платящими, а в тестовой – 1805 из 202667.\n",
    "Какой набор предложений можно считать лучшим? Какие метрики стоит проанализировать для принятия правильного решения и как?</div>\n",
    "<br>\n",
    "<br>Для того чтобы принять правильное решение посчитаем следующие метрика для каждой из групп (тестовой и контрольной):\n",
    "<ul>\n",
    "<li><i>ARPU</i> (хоть и по условию эта метрика дана, лучше перес читать)</li>\n",
    "<li><i>ARPPU</i> (средний доход на платящих пользователей)</li>\n",
    "<li><i>CR</i> конверсия пользователей в платящих пользователей</li>\n",
    "</ul>"
   ]
  },
  {
   "cell_type": "markdown",
   "metadata": {},
   "source": [
    "Так как на протяжение решения задачи нам часто придется принимать решения на основе *p_value*, имеет смысл сделать функцию, которая будет нам говорить о том, *p_value* больше уровня значимости или нет"
   ]
  },
  {
   "cell_type": "code",
   "execution_count": 185,
   "metadata": {},
   "outputs": [],
   "source": [
    "def p_value_meaning(p_value:float, alpha:float = 0.05)->None:\n",
    "    \"\"\"\n",
    "    Фукнция для интерпретации p_value значения\n",
    "\tФункция сравнивает p-значение с уровнем значимости α = 0.05 и выводит решение:\n",
    "\t- Если p_value > 0.05: недостаточно оснований для отклонения H0.\n",
    "\t- Если p_value <= 0.05: отклонение H0 в пользу альтернативной гипотезы (H1).\n",
    "    Paran:\n",
    "\t\tp_value (float): значение p_value в результате стат. теста\n",
    "        alpha (float) = 0.05 значение уровня значимости, по умолчанию 0.05\n",
    "    Return:\n",
    "\t\tNone: фукнция выводит на экран результат\n",
    "\t\"\"\"\n",
    "\n",
    "    print(f'Нет оснований отклонить H0' if p_value > alpha else 'Отклоняем H0, принимаем гипотезу H1')\n",
    "    print(f'p_value = {p_value}.')"
   ]
  },
  {
   "cell_type": "markdown",
   "metadata": {},
   "source": [
    "### **ARPU** (Average revenue per user) - средняя выручка на одного пользователя"
   ]
  },
  {
   "cell_type": "code",
   "execution_count": 186,
   "metadata": {},
   "outputs": [
    {
     "name": "stdout",
     "output_type": "stream",
     "text": [
      "ARPU всего датафрейма 26.08\n",
      "ARPU групп пользователей (a,b):\n",
      "a - 25.41\n",
      "b - 26.75\n",
      "Разница между ARPU групп a и b в абсолютных значениях составляет:  1.34\n",
      "Разница между ARPU групп a и b составляет: 5.27 %\n"
     ]
    }
   ],
   "source": [
    "#расчитаем среднее arpu по всему датафрейму\n",
    "total_arpu = task2_df.revenue.sum()/task2_df.user_id.nunique()\n",
    "print('ARPU всего датафрейма',round(total_arpu,2))\n",
    "\n",
    "#разобъем наших пользоватлей на две группы (a,b)\n",
    "group_a = task2_df.query('testgroup==\"a\"')\n",
    "group_b = task2_df.query('testgroup==\"b\"')\n",
    "\n",
    "#посчитаем ARPU для каждой из групп SUM(revenue)/COUNT(user)\n",
    "group_a_arpu = round(group_a.revenue.sum()/group_a.user_id.nunique(),2)\n",
    "group_b_arpu = round(group_b.revenue.sum()/group_b.user_id.nunique(),2)\n",
    "print(f'ARPU групп пользователей (a,b):\\na - {group_a_arpu}\\nb - {group_b_arpu}')\n",
    "\n",
    "#посмотрим разницу между ARPU групп в процентах\n",
    "print('Разница между ARPU групп a и b в абсолютных значениях составляет: ', round(group_b_arpu-group_a_arpu, 2))\n",
    "print('Разница между ARPU групп a и b составляет:', round((group_b_arpu*100/group_a_arpu) - 100,2),'%')\n"
   ]
  },
  {
   "cell_type": "markdown",
   "metadata": {},
   "source": [
    "Действительно разница между ARPU групп составляет &approx; 5%. Значит группа <i>b</i> - тестовая, а  группа <i>а</i> - контрольная."
   ]
  },
  {
   "cell_type": "code",
   "execution_count": 187,
   "metadata": {},
   "outputs": [
    {
     "data": {
      "text/html": [
       "<div>\n",
       "<style scoped>\n",
       "    .dataframe tbody tr th:only-of-type {\n",
       "        vertical-align: middle;\n",
       "    }\n",
       "\n",
       "    .dataframe tbody tr th {\n",
       "        vertical-align: top;\n",
       "    }\n",
       "\n",
       "    .dataframe thead th {\n",
       "        text-align: right;\n",
       "    }\n",
       "</style>\n",
       "<table border=\"1\" class=\"dataframe\">\n",
       "  <thead>\n",
       "    <tr style=\"text-align: right;\">\n",
       "      <th></th>\n",
       "      <th>user_id</th>\n",
       "      <th>revenue</th>\n",
       "      <th>testgroup</th>\n",
       "    </tr>\n",
       "  </thead>\n",
       "  <tbody>\n",
       "    <tr>\n",
       "      <th>0</th>\n",
       "      <td>1</td>\n",
       "      <td>0</td>\n",
       "      <td>b</td>\n",
       "    </tr>\n",
       "    <tr>\n",
       "      <th>3</th>\n",
       "      <td>4</td>\n",
       "      <td>0</td>\n",
       "      <td>b</td>\n",
       "    </tr>\n",
       "  </tbody>\n",
       "</table>\n",
       "</div>"
      ],
      "text/plain": [
       "   user_id  revenue testgroup\n",
       "0        1        0         b\n",
       "3        4        0         b"
      ]
     },
     "execution_count": 187,
     "metadata": {},
     "output_type": "execute_result"
    }
   ],
   "source": [
    "#переименуем наши датафреймы чтобы не путаться\n",
    "gcontrol = group_a\n",
    "gtest = group_b\t\n",
    "gtest.head(2)"
   ]
  },
  {
   "cell_type": "code",
   "execution_count": 188,
   "metadata": {},
   "outputs": [
    {
     "name": "stdout",
     "output_type": "stream",
     "text": [
      "Рост ARPU и ARPPU в тестовой группе\n",
      "      ARPU:5.27%\n",
      "      ARPPU:12.75%\n"
     ]
    },
    {
     "data": {
      "text/html": [
       "<div>\n",
       "<style scoped>\n",
       "    .dataframe tbody tr th:only-of-type {\n",
       "        vertical-align: middle;\n",
       "    }\n",
       "\n",
       "    .dataframe tbody tr th {\n",
       "        vertical-align: top;\n",
       "    }\n",
       "\n",
       "    .dataframe thead th {\n",
       "        text-align: right;\n",
       "    }\n",
       "</style>\n",
       "<table border=\"1\" class=\"dataframe\">\n",
       "  <thead>\n",
       "    <tr style=\"text-align: right;\">\n",
       "      <th></th>\n",
       "      <th>user_cnt</th>\n",
       "      <th>paied_users</th>\n",
       "      <th>revenue</th>\n",
       "      <th>CR_per</th>\n",
       "      <th>ARPU</th>\n",
       "      <th>ARPPU</th>\n",
       "    </tr>\n",
       "  </thead>\n",
       "  <tbody>\n",
       "    <tr>\n",
       "      <th>control</th>\n",
       "      <td>202103</td>\n",
       "      <td>1928</td>\n",
       "      <td>5136189</td>\n",
       "      <td>0.953969</td>\n",
       "      <td>25.41</td>\n",
       "      <td>2663.998444</td>\n",
       "    </tr>\n",
       "    <tr>\n",
       "      <th>test</th>\n",
       "      <td>202667</td>\n",
       "      <td>1805</td>\n",
       "      <td>5421603</td>\n",
       "      <td>0.890624</td>\n",
       "      <td>26.75</td>\n",
       "      <td>3003.658172</td>\n",
       "    </tr>\n",
       "  </tbody>\n",
       "</table>\n",
       "</div>"
      ],
      "text/plain": [
       "         user_cnt  paied_users  revenue    CR_per   ARPU        ARPPU\n",
       "control    202103         1928  5136189  0.953969  25.41  2663.998444\n",
       "test       202667         1805  5421603  0.890624  26.75  3003.658172"
      ]
     },
     "execution_count": 188,
     "metadata": {},
     "output_type": "execute_result"
    }
   ],
   "source": [
    "#создам датафрейм в который буду добавлять все необходимые данные по каждой из групп\n",
    "info_df = pd.DataFrame(data=[group_a_arpu, group_b_arpu], columns=['ARPU'], index=['control', 'test'])\n",
    "\n",
    "#добавим Revenue для каждой группы\n",
    "info_df['revenue'] = gcontrol.revenue.sum(), gtest.revenue.sum()\n",
    "\n",
    "#добавлю общее число пользователей в группах\n",
    "info_df['user_cnt'] = gcontrol.user_id.nunique(), gtest.user_id.nunique()\n",
    "\n",
    "#добавим число платящих пользователей\n",
    "info_df['paied_users'] = gcontrol.user_id.loc[gcontrol.revenue != 0].nunique(), gtest.user_id.loc[gtest .revenue != 0].nunique()\n",
    "\n",
    "#рассчитаем CR (проценты)\n",
    "info_df['CR_per'] = info_df.paied_users/info_df.user_cnt*100\n",
    "\n",
    "#расчитаем ARPPU\n",
    "info_df['ARPPU'] = info_df.revenue/info_df.paied_users\n",
    "\n",
    "info_df = info_df[['user_cnt','paied_users','revenue','CR_per','ARPU','ARPPU']]\n",
    "print(f'''Рост ARPU и ARPPU в тестовой группе\n",
    "      ARPU:{round(info_df.ARPU.loc['test']/info_df.ARPU.loc['control'] * 100 - 100, 2)}%\n",
    "      ARPPU:{round(info_df.ARPPU.loc['test']/info_df.ARPPU.loc['control'] * 100 - 100,2)}%''')\n",
    "info_df"
   ]
  },
  {
   "cell_type": "markdown",
   "metadata": {},
   "source": [
    "Так как ARPU предполагает некоторое среднее значение, то имеет смысл использовать t-test. Для этого теста необходимо чтобы данные были или распределены нормально и обладали гомогенностью дисперсии, или имели большое число наблюдений в случае не нормального распределения, а в случае не равенства дисперсий можно использовать t-test с критериев Уэлча. Таким образом, проверка на гомогенность дисперсии и на нормальность не обязательна, однако, в рамках обучающего проекта есть смысл идти по пути проверки всех требований."
   ]
  },
  {
   "cell_type": "markdown",
   "metadata": {},
   "source": [
    "#### Проверка на нормальность распределения"
   ]
  },
  {
   "cell_type": "markdown",
   "metadata": {},
   "source": [
    "Для проверки на нормальное распределение можно использовать тест Шапира-Уилка, однако при больших объемах данных, имеющих явную асимметрию или выбросы, более подходящим является тест Д`Агостина-Пирсона (stats.normaltest)\n",
    "<br>\n",
    "Сформулируем гипотезы:\n",
    "<br>*H0* - данные имеют нормальное распределние\n",
    "<br>*H1* - данные распределены ненормально\n",
    "<br> уровень значимости $\\alpha$ = 0.05"
   ]
  },
  {
   "cell_type": "code",
   "execution_count": 189,
   "metadata": {},
   "outputs": [
    {
     "name": "stdout",
     "output_type": "stream",
     "text": [
      "Тестовая группа:\n",
      "Отклоняем H0, принимаем гипотезу H1\n",
      "p_value = 0.0.\n",
      "Контрольная группа:\n",
      "Отклоняем H0, принимаем гипотезу H1\n",
      "p_value = 0.0.\n"
     ]
    }
   ],
   "source": [
    "print('Тестовая группа:')\n",
    "p_value_meaning(stats.normaltest(gtest.revenue)[1])\n",
    "print('Контрольная группа:') \n",
    "p_value_meaning(stats.normaltest(gcontrol.revenue)[1])"
   ]
  },
  {
   "cell_type": "markdown",
   "metadata": {},
   "source": [
    "Как и предполагалось из общего вида графиков, <u>данные не имеют нормального распределения</u>, однако, как говорилось ранее, нам это и не обязательно "
   ]
  },
  {
   "cell_type": "markdown",
   "metadata": {},
   "source": [
    "#### Проверка на гомогенность дисперсии (тест Левена)"
   ]
  },
  {
   "cell_type": "markdown",
   "metadata": {},
   "source": [
    "Сформулируем гипотезы:\n",
    "<br>*H0* - дисперсия в тестовой и контрольной группах равны\n",
    "<br>*H1* - дисперсии не равны\n",
    "<br> уровень значимости $\\alpha$ = 0.05"
   ]
  },
  {
   "cell_type": "code",
   "execution_count": 190,
   "metadata": {},
   "outputs": [
    {
     "name": "stdout",
     "output_type": "stream",
     "text": [
      "Нет оснований отклонить H0\n",
      "p_value = 0.5324948591043842.\n"
     ]
    }
   ],
   "source": [
    "p_value_meaning(stats.levene(gcontrol.revenue, gtest.revenue)[1])"
   ]
  },
  {
   "cell_type": "markdown",
   "metadata": {},
   "source": [
    "В группах a и b по результатам теста Леневе <u>Дисперсии равны</u>."
   ]
  },
  {
   "cell_type": "markdown",
   "metadata": {},
   "source": [
    "#### Проверка на стат. значимые различия ARPU в двух группах a и b"
   ]
  },
  {
   "cell_type": "markdown",
   "metadata": {},
   "source": [
    "Для проверки будем использовать t-тест (stats.ttest_ind) для двух независимых выборок.\n",
    "<br>Сформулируем гипотезы:\n",
    "<br>*H0* - среднии значения двух групп revenue принадлежат одной генеральной совокупности (между ARPU двух групп нет стат. значимого различия)\n",
    "<br>*H1* - между средними значениями revenue двух групп имеется стат. значимое различие"
   ]
  },
  {
   "cell_type": "code",
   "execution_count": 191,
   "metadata": {},
   "outputs": [
    {
     "name": "stdout",
     "output_type": "stream",
     "text": [
      "Нет оснований отклонить H0\n",
      "p_value = 0.532494858971837.\n"
     ]
    }
   ],
   "source": [
    "p_value_meaning(stats.ttest_ind(gtest.revenue, gcontrol.revenue)[1])"
   ]
  },
  {
   "cell_type": "markdown",
   "metadata": {},
   "source": [
    "**Вывод по ARPU**\n",
    "По результатам проведенного t-теста, <u>статистически значимого различия</u> между ARPU тестовой и контрольной групп <u>не выявлено</u>. Оставляем нулевую гипотезу.  "
   ]
  },
  {
   "cell_type": "markdown",
   "metadata": {},
   "source": [
    "---"
   ]
  },
  {
   "cell_type": "markdown",
   "metadata": {},
   "source": [
    "### **ARPPU** (average revenue per paying users) - средняя выручка на платящего пользователя"
   ]
  },
  {
   "cell_type": "markdown",
   "metadata": {},
   "source": [
    "ARPPU похожа на ARPU и для этого критерия подходят все те же выводы, что и для ARPU, с тем лишь отличием, что будут в расчет браться не все пользователи, а лишь те, которые оплачивают.\n",
    "Проведем такие же тесты: проверим на нормальность (Д`Агостина-Пирсона), равенство дисперсий (тест Ленева) и сравним полученные ARPPU двух групп с помощью t-теста."
   ]
  },
  {
   "cell_type": "code",
   "execution_count": 192,
   "metadata": {},
   "outputs": [
    {
     "name": "stdout",
     "output_type": "stream",
     "text": [
      "Изменение ARPPU в тестовой группе относительно контрольной в в абсолютных значениях:  339.66\n",
      "Изменение ARPPU в тествоой группе относительно контрольной группы составляет:  12.75 %\n"
     ]
    }
   ],
   "source": [
    "print('Изменение ARPPU в тестовой группе относительно контрольной в в абсолютных значениях: ', round(info_df.ARPPU.loc['test'] - info_df.ARPPU.loc['control'],2))\n",
    "print('Изменение ARPPU в тествоой группе относительно контрольной группы составляет: ', round(info_df.ARPPU.loc['test']/info_df.ARPPU.loc['control'] * 100 - 100, 2),'%')"
   ]
  },
  {
   "cell_type": "markdown",
   "metadata": {},
   "source": [
    "#### Проверка на нормальность распределения"
   ]
  },
  {
   "cell_type": "markdown",
   "metadata": {},
   "source": [
    "тест Д`Агостина-Пирсона (stats.normaltest)\n",
    "<br>\n",
    "Сформулируем гипотезы:\n",
    "<br>*H0* - данные имеют нормальное распределние\n",
    "<br>*H1* - данные распределены ненормально\n",
    "<br> уровень значимости $\\alpha$ = 0.05"
   ]
  },
  {
   "cell_type": "code",
   "execution_count": 193,
   "metadata": {},
   "outputs": [
    {
     "name": "stdout",
     "output_type": "stream",
     "text": [
      "Тестовая группа:\n",
      "Отклоняем H0, принимаем гипотезу H1\n",
      "p_value = 7.943249488371762e-233.\n",
      "Контрольная группа:\n",
      "Отклоняем H0, принимаем гипотезу H1\n",
      "p_value = 1.2341605505935488e-303.\n"
     ]
    }
   ],
   "source": [
    "print('Тестовая группа:')\n",
    "p_value_meaning(stats.normaltest(gtest.query('revenue != 0').revenue)[1])\n",
    "print('Контрольная группа:') \n",
    "p_value_meaning(stats.normaltest(gcontrol.query('revenue != 0').revenue)[1])"
   ]
  },
  {
   "cell_type": "markdown",
   "metadata": {},
   "source": [
    "Как и в случае c ARPU <u>данные не имеют нормального распределения</u>.  "
   ]
  },
  {
   "cell_type": "markdown",
   "metadata": {},
   "source": [
    "#### Проверка на гомогенность дисперсии (тест Левена)"
   ]
  },
  {
   "cell_type": "markdown",
   "metadata": {},
   "source": [
    "Сформулируем гипотезы:\n",
    "<br>*H0* - дисперсия в тестовой и контрольной группах равны\n",
    "<br>*H1* - дисперсии не равны\n",
    "<br> уровень значимости $\\alpha$ = 0.05"
   ]
  },
  {
   "cell_type": "code",
   "execution_count": 194,
   "metadata": {},
   "outputs": [
    {
     "name": "stdout",
     "output_type": "stream",
     "text": [
      "Отклоняем H0, принимаем гипотезу H1\n",
      "p_value = 3.779689868667878e-19.\n"
     ]
    }
   ],
   "source": [
    "p_value_meaning(stats.levene(gcontrol.query('revenue != 0').revenue, gtest.query('revenue != 0').revenue)[1])"
   ]
  },
  {
   "cell_type": "markdown",
   "metadata": {},
   "source": [
    "В группах a и b по результатам теста Леневе <u>Дисперсии не равны</u>."
   ]
  },
  {
   "cell_type": "markdown",
   "metadata": {},
   "source": [
    "#### Проверка на стат. значимые различия ARPPU в двух группах control и test"
   ]
  },
  {
   "cell_type": "markdown",
   "metadata": {},
   "source": [
    "Для проверки будем использовать t-тест (stats.ttest_ind) для двух независимых выборок.\n",
    "<br>Сформулируем гипотезы:\n",
    "<br>*H0* - значения ARPPU двух групп принадлежат одной генеральной совокупности (между ARPPU двух групп нет стат. значимого различия)\n",
    "<br>*H1* - значениe ARPPU тестовой и контрольной групп имеется стат. значимое различие"
   ]
  },
  {
   "cell_type": "code",
   "execution_count": 195,
   "metadata": {},
   "outputs": [
    {
     "name": "stdout",
     "output_type": "stream",
     "text": [
      "Нет оснований отклонить H0\n",
      "p_value = 0.11153459157259497.\n"
     ]
    }
   ],
   "source": [
    "p_value_meaning(stats.ttest_ind(gtest.query('revenue != 0').revenue, gcontrol.query('revenue != 0').revenue)[1])"
   ]
  },
  {
   "cell_type": "markdown",
   "metadata": {},
   "source": [
    "**Вывод по ARPPU**\n",
    "<br>По результатам проведенного t-теста, <u>статистически значимого различия</u> между ARPPU тестовой и контрольной групп <u>не выявлено</u>. Оставляем нулевую гипотезу.  "
   ]
  },
  {
   "cell_type": "markdown",
   "metadata": {},
   "source": [
    "---"
   ]
  },
  {
   "cell_type": "markdown",
   "metadata": {},
   "source": [
    "### **CR** (conversion rate) - доля пользователей выполнивших целевую метрику, в нашем случае, оплата"
   ]
  },
  {
   "cell_type": "code",
   "execution_count": 196,
   "metadata": {},
   "outputs": [
    {
     "data": {
      "text/html": [
       "<div>\n",
       "<style scoped>\n",
       "    .dataframe tbody tr th:only-of-type {\n",
       "        vertical-align: middle;\n",
       "    }\n",
       "\n",
       "    .dataframe tbody tr th {\n",
       "        vertical-align: top;\n",
       "    }\n",
       "\n",
       "    .dataframe thead th {\n",
       "        text-align: right;\n",
       "    }\n",
       "</style>\n",
       "<table border=\"1\" class=\"dataframe\">\n",
       "  <thead>\n",
       "    <tr style=\"text-align: right;\">\n",
       "      <th></th>\n",
       "      <th>user_cnt</th>\n",
       "      <th>paied_users</th>\n",
       "      <th>revenue</th>\n",
       "      <th>CR_per</th>\n",
       "      <th>ARPU</th>\n",
       "      <th>ARPPU</th>\n",
       "    </tr>\n",
       "  </thead>\n",
       "  <tbody>\n",
       "    <tr>\n",
       "      <th>control</th>\n",
       "      <td>202103</td>\n",
       "      <td>1928</td>\n",
       "      <td>5136189</td>\n",
       "      <td>0.953969</td>\n",
       "      <td>25.41</td>\n",
       "      <td>2663.998444</td>\n",
       "    </tr>\n",
       "    <tr>\n",
       "      <th>test</th>\n",
       "      <td>202667</td>\n",
       "      <td>1805</td>\n",
       "      <td>5421603</td>\n",
       "      <td>0.890624</td>\n",
       "      <td>26.75</td>\n",
       "      <td>3003.658172</td>\n",
       "    </tr>\n",
       "  </tbody>\n",
       "</table>\n",
       "</div>"
      ],
      "text/plain": [
       "         user_cnt  paied_users  revenue    CR_per   ARPU        ARPPU\n",
       "control    202103         1928  5136189  0.953969  25.41  2663.998444\n",
       "test       202667         1805  5421603  0.890624  26.75  3003.658172"
      ]
     },
     "execution_count": 196,
     "metadata": {},
     "output_type": "execute_result"
    }
   ],
   "source": [
    "info_df"
   ]
  },
  {
   "cell_type": "markdown",
   "metadata": {},
   "source": [
    "Давайте посмотрим на таблицу info_df:\n",
    "<br>Посмотрим на сколько уменьшилась конверсия в тестовой группе, и имеет ли это изменение стат. значение"
   ]
  },
  {
   "cell_type": "markdown",
   "metadata": {},
   "source": [
    "Для определения стат. значения изменения конверсии можно использовать тест Пирсона (Хи-квадрат). Для этого необходимо немного поработать с данными"
   ]
  },
  {
   "cell_type": "code",
   "execution_count": 197,
   "metadata": {},
   "outputs": [
    {
     "data": {
      "text/html": [
       "<div>\n",
       "<style scoped>\n",
       "    .dataframe tbody tr th:only-of-type {\n",
       "        vertical-align: middle;\n",
       "    }\n",
       "\n",
       "    .dataframe tbody tr th {\n",
       "        vertical-align: top;\n",
       "    }\n",
       "\n",
       "    .dataframe thead th {\n",
       "        text-align: right;\n",
       "    }\n",
       "</style>\n",
       "<table border=\"1\" class=\"dataframe\">\n",
       "  <thead>\n",
       "    <tr style=\"text-align: right;\">\n",
       "      <th>testgroup</th>\n",
       "      <th>a</th>\n",
       "      <th>b</th>\n",
       "    </tr>\n",
       "    <tr>\n",
       "      <th>converted</th>\n",
       "      <th></th>\n",
       "      <th></th>\n",
       "    </tr>\n",
       "  </thead>\n",
       "  <tbody>\n",
       "    <tr>\n",
       "      <th>False</th>\n",
       "      <td>200175</td>\n",
       "      <td>200862</td>\n",
       "    </tr>\n",
       "    <tr>\n",
       "      <th>True</th>\n",
       "      <td>1928</td>\n",
       "      <td>1805</td>\n",
       "    </tr>\n",
       "  </tbody>\n",
       "</table>\n",
       "</div>"
      ],
      "text/plain": [
       "testgroup       a       b\n",
       "converted                \n",
       "False      200175  200862\n",
       "True         1928    1805"
      ]
     },
     "execution_count": 197,
     "metadata": {},
     "output_type": "execute_result"
    }
   ],
   "source": [
    "chi_df = task2_df.copy(deep=True)\n",
    "chi_df['converted'] = chi_df.revenue > 0\n",
    "\n",
    "#сформируем таблицу-сопряженности для chi-square\n",
    "chi_df = chi_df.groupby(['testgroup', 'converted'], as_index=False) \\\n",
    "    .agg(user_cnt=('user_id','count')) \\\n",
    "\t.pivot(index='converted',columns='testgroup', values='user_cnt')\n",
    "chi_df"
   ]
  },
  {
   "cell_type": "markdown",
   "metadata": {},
   "source": [
    "Сформулируем гипотезу:\n",
    "<br>*H0* - категориальные переменные (*a*, *b*) независимы, т.е. не имеют статистически значимой связи\n",
    "<br>*H1* - переменные зависимы\n",
    "<br>Уровень значимости $\\alpha = 0.05$"
   ]
  },
  {
   "cell_type": "code",
   "execution_count": 198,
   "metadata": {},
   "outputs": [
    {
     "name": "stdout",
     "output_type": "stream",
     "text": [
      "Отклоняем H0, принимаем гипотезу H1\n",
      "p_value = 0.03647561892312613.\n"
     ]
    }
   ],
   "source": [
    "#используем функцию из пакета scipy.stats.chi2_contingency - тест независимости переменных в таблице сопряженности\n",
    "p_value = stats.chi2_contingency(chi_df)[1]\n",
    "p_value_meaning(p_value)"
   ]
  },
  {
   "cell_type": "markdown",
   "metadata": {},
   "source": [
    "По результатам теста хи-квадрат, видно, что изменение конверсии в тестовой и контрольных групп имеет стат. значимое различие. "
   ]
  },
  {
   "cell_type": "markdown",
   "metadata": {},
   "source": [
    "Найдем разницу в конверсиях:"
   ]
  },
  {
   "cell_type": "code",
   "execution_count": 199,
   "metadata": {},
   "outputs": [
    {
     "data": {
      "text/plain": [
       "np.float64(0.063)"
      ]
     },
     "execution_count": 199,
     "metadata": {},
     "output_type": "execute_result"
    }
   ],
   "source": [
    "round(info_df.CR_per.loc['control']-info_df.CR_per.loc['test'], 3)"
   ]
  },
  {
   "cell_type": "markdown",
   "metadata": {},
   "source": [
    "**Вывод по CR**<br >\n",
    "По результатам теста, видим, что p_value < alpha (0.05) следовательно, мы отклоняем гипотезу H0 о том, что категориальные переменные независимы, другими словами, уменьшение конверсии тестовой группы на 0.063 относительно тестовой группы <u>имеет стат. значимые различия</u>"
   ]
  },
  {
   "cell_type": "markdown",
   "metadata": {},
   "source": [
    "---"
   ]
  },
  {
   "cell_type": "markdown",
   "metadata": {},
   "source": [
    "## Выводы по A\\B тесту"
   ]
  },
  {
   "cell_type": "markdown",
   "metadata": {},
   "source": [
    "По результатам A\\B тесту можно сказать, что конверсия в тестовой группе уменьшилась, ARPU и ARPPU  увеличилось, но это изменение не имеет стат. значимого значения. Таким образом, можно сказать, что лучшем решением является **оставить текущее предложени**. Тестовое предложение по результатам A\\B тестирования провалилось."
   ]
  },
  {
   "cell_type": "markdown",
   "metadata": {},
   "source": [
    "---"
   ]
  },
  {
   "cell_type": "markdown",
   "metadata": {},
   "source": [
    "--- "
   ]
  },
  {
   "cell_type": "markdown",
   "metadata": {},
   "source": [
    "## Предположим..."
   ]
  },
  {
   "cell_type": "markdown",
   "metadata": {},
   "source": [
    "Однако, мы видим, что в группе *a* есть какие то странные 123 пользователя доход с которых составляет 89% от общего дохода группы. Давайте предположим, что в процессе подготовки данных возникла ошибка и в набор контрольной группы попали люди, которые покупают по каким то другим условиям, в отличии от всех остальных пользоватлей в этой группе.\n",
    "<br>Попробуем удалить этих пользоватлей как случайно попавших, и сравним еще раз ARPU, ARPPU и CR"
   ]
  },
  {
   "cell_type": "code",
   "execution_count": 200,
   "metadata": {},
   "outputs": [],
   "source": [
    "test_df = task2_df.query('revenue < 30000')"
   ]
  },
  {
   "cell_type": "code",
   "execution_count": 201,
   "metadata": {},
   "outputs": [
    {
     "name": "stdout",
     "output_type": "stream",
     "text": [
      "ARPU всего датафрейма 14.74\n",
      "ARPU групп пользователей (a,b):\n",
      "a - 2.7\n",
      "b - 26.75\n",
      "Разница между ARPU групп a и b в абсолютных значениях составляет:  24.05\n",
      "Разница между ARPU групп a и b составляет: 890.74 %\n"
     ]
    }
   ],
   "source": [
    "#расчитаем среднее arpu по всему датафрейму\n",
    "total_arpu = test_df.revenue.sum()/task2_df.user_id.nunique()\n",
    "print('ARPU всего датафрейма',round(total_arpu,2))\n",
    "\n",
    "#разобъем наших пользоватлей на две группы (a,b)\n",
    "group_a = test_df.query('testgroup==\"a\"')\n",
    "group_b = test_df.query('testgroup==\"b\"')\n",
    "\n",
    "#посчитаем ARPU для каждой из групп SUM(revenue)/COUNT(user)\n",
    "group_a_arpu = round(group_a.revenue.sum()/group_a.user_id.nunique(),2)\n",
    "group_b_arpu = round(group_b.revenue.sum()/group_b.user_id.nunique(),2)\n",
    "print(f'ARPU групп пользователей (a,b):\\na - {group_a_arpu}\\nb - {group_b_arpu}')\n",
    "\n",
    "#посмотрим разницу между ARPU групп в процентах\n",
    "print('Разница между ARPU групп a и b в абсолютных значениях составляет: ', round(group_b_arpu-group_a_arpu, 2))\n",
    "print('Разница между ARPU групп a и b составляет:', round((group_b_arpu*100/group_a_arpu) - 100,2),'%')"
   ]
  },
  {
   "cell_type": "code",
   "execution_count": 202,
   "metadata": {},
   "outputs": [],
   "source": [
    "#переименуем наши датафреймы чтобы не путаться\n",
    "gcontrol = group_a\n",
    "gtest = group_b\t"
   ]
  },
  {
   "cell_type": "code",
   "execution_count": 203,
   "metadata": {},
   "outputs": [
    {
     "name": "stdout",
     "output_type": "stream",
     "text": [
      "Рост ARPU и ARPPU в тестовой группе\n",
      "      ARPU:890.74%\n",
      "      ARPPU:893.08%\n"
     ]
    },
    {
     "data": {
      "text/html": [
       "<div>\n",
       "<style scoped>\n",
       "    .dataframe tbody tr th:only-of-type {\n",
       "        vertical-align: middle;\n",
       "    }\n",
       "\n",
       "    .dataframe tbody tr th {\n",
       "        vertical-align: top;\n",
       "    }\n",
       "\n",
       "    .dataframe thead th {\n",
       "        text-align: right;\n",
       "    }\n",
       "</style>\n",
       "<table border=\"1\" class=\"dataframe\">\n",
       "  <thead>\n",
       "    <tr style=\"text-align: right;\">\n",
       "      <th></th>\n",
       "      <th>user_cnt</th>\n",
       "      <th>paied_users</th>\n",
       "      <th>revenue</th>\n",
       "      <th>CR_per</th>\n",
       "      <th>ARPU</th>\n",
       "      <th>ARPPU</th>\n",
       "    </tr>\n",
       "  </thead>\n",
       "  <tbody>\n",
       "    <tr>\n",
       "      <th>control</th>\n",
       "      <td>201980</td>\n",
       "      <td>1805</td>\n",
       "      <td>545937</td>\n",
       "      <td>0.893653</td>\n",
       "      <td>2.70</td>\n",
       "      <td>302.458172</td>\n",
       "    </tr>\n",
       "    <tr>\n",
       "      <th>test</th>\n",
       "      <td>202667</td>\n",
       "      <td>1805</td>\n",
       "      <td>5421603</td>\n",
       "      <td>0.890624</td>\n",
       "      <td>26.75</td>\n",
       "      <td>3003.658172</td>\n",
       "    </tr>\n",
       "  </tbody>\n",
       "</table>\n",
       "</div>"
      ],
      "text/plain": [
       "         user_cnt  paied_users  revenue    CR_per   ARPU        ARPPU\n",
       "control    201980         1805   545937  0.893653   2.70   302.458172\n",
       "test       202667         1805  5421603  0.890624  26.75  3003.658172"
      ]
     },
     "execution_count": 203,
     "metadata": {},
     "output_type": "execute_result"
    }
   ],
   "source": [
    "#создам датафрейм в который буду добавлять все необходимые данные по каждой из групп\n",
    "info_df = pd.DataFrame(data=[group_a_arpu, group_b_arpu], columns=['ARPU'], index=['control', 'test'])\n",
    "\n",
    "#добавим Revenue для каждой группы\n",
    "info_df['revenue'] = gcontrol.revenue.sum(), gtest.revenue.sum()\n",
    "\n",
    "#добавлю общее число пользователей в группах\n",
    "info_df['user_cnt'] = gcontrol.user_id.nunique(), gtest.user_id.nunique()\n",
    "\n",
    "#добавим число платящих пользователей\n",
    "info_df['paied_users'] = gcontrol.user_id.loc[gcontrol.revenue != 0].nunique(), gtest.user_id.loc[gtest .revenue != 0].nunique()\n",
    "\n",
    "#рассчитаем CR (проценты)\n",
    "info_df['CR_per'] = info_df.paied_users/info_df.user_cnt*100\n",
    "\n",
    "#расчитаем ARPPU\n",
    "info_df['ARPPU'] = info_df.revenue/info_df.paied_users\n",
    "\n",
    "info_df = info_df[['user_cnt','paied_users','revenue','CR_per','ARPU','ARPPU']]\n",
    "print(f'''Рост ARPU и ARPPU в тестовой группе\n",
    "      ARPU:{round(info_df.ARPU.loc['test']/info_df.ARPU.loc['control'] * 100 - 100, 2)}%\n",
    "      ARPPU:{round(info_df.ARPPU.loc['test']/info_df.ARPPU.loc['control'] * 100 - 100,2)}%''')\n",
    "info_df"
   ]
  },
  {
   "cell_type": "markdown",
   "metadata": {},
   "source": [
    "Теперь получается так, что revenue, ARPU и ARPPU в двух группах различается на порядок! При этом конверсия примерно равна.\n",
    "Давайте быстренько сравним ARPU, ARPPU и CR, по аналогии с тем, как это было сделано выше, но без проверок."
   ]
  },
  {
   "cell_type": "markdown",
   "metadata": {},
   "source": [
    "### **ARPU**"
   ]
  },
  {
   "cell_type": "markdown",
   "metadata": {},
   "source": [
    "Для проверки будем использовать t-тест (stats.ttest_ind) для двух независимых выборок.\n",
    "<br>Сформулируем гипотезы:\n",
    "<br>*H0* - среднии значения двух групп revenue принадлежат одной генеральной совокупности (между ARPU двух групп нет стат. значимого различия)\n",
    "<br>*H1* - между средними значениями revenue двух групп имеется стат. значимое различие"
   ]
  },
  {
   "cell_type": "code",
   "execution_count": 204,
   "metadata": {},
   "outputs": [
    {
     "name": "stdout",
     "output_type": "stream",
     "text": [
      "Отклоняем H0, принимаем гипотезу H1\n",
      "p_value = 4.912187544972622e-306.\n"
     ]
    }
   ],
   "source": [
    "p_value = stats.ttest_ind(gtest.revenue,gcontrol.revenue)[1]\n",
    "p_value_meaning(p_value)"
   ]
  },
  {
   "cell_type": "markdown",
   "metadata": {},
   "source": [
    "Наблюдаются стат. значимые различия между ARPU тестовой и контрольной групп"
   ]
  },
  {
   "cell_type": "markdown",
   "metadata": {},
   "source": [
    "--- "
   ]
  },
  {
   "cell_type": "markdown",
   "metadata": {},
   "source": [
    "### **ARPPU**"
   ]
  },
  {
   "cell_type": "markdown",
   "metadata": {},
   "source": [
    "Для проверки будем использовать t-тест (stats.ttest_ind) для двух независимых выборок.\n",
    "<br>Сформулируем гипотезы:\n",
    "<br>*H0* - значения ARPPU двух групп принадлежат одной генеральной совокупности (между ARPPU двух групп нет стат. значимого различия)\n",
    "<br>*H1* - значениe ARPPU тестовой и контрольной групп имеется стат. значимое различие"
   ]
  },
  {
   "cell_type": "code",
   "execution_count": 205,
   "metadata": {},
   "outputs": [
    {
     "name": "stdout",
     "output_type": "stream",
     "text": [
      "Отклоняем H0, принимаем гипотезу H1\n",
      "p_value = 0.0.\n"
     ]
    }
   ],
   "source": [
    "p_value_meaning(stats.ttest_ind(gtest.query('revenue != 0').revenue, gcontrol.query('revenue != 0').revenue)[1])"
   ]
  },
  {
   "cell_type": "markdown",
   "metadata": {},
   "source": [
    "**Вывод по ARPPU**\n",
    "<br>По результатам проведенного t-теста, <u>выявлены статистически значимые различия</u> между ARPPU тестовой и контрольной группами. Принимаем альтернативную гипотезу.  "
   ]
  },
  {
   "cell_type": "markdown",
   "metadata": {},
   "source": [
    "--- "
   ]
  },
  {
   "cell_type": "markdown",
   "metadata": {},
   "source": [
    "### **CR**"
   ]
  },
  {
   "cell_type": "code",
   "execution_count": 206,
   "metadata": {},
   "outputs": [
    {
     "data": {
      "text/html": [
       "<div>\n",
       "<style scoped>\n",
       "    .dataframe tbody tr th:only-of-type {\n",
       "        vertical-align: middle;\n",
       "    }\n",
       "\n",
       "    .dataframe tbody tr th {\n",
       "        vertical-align: top;\n",
       "    }\n",
       "\n",
       "    .dataframe thead th {\n",
       "        text-align: right;\n",
       "    }\n",
       "</style>\n",
       "<table border=\"1\" class=\"dataframe\">\n",
       "  <thead>\n",
       "    <tr style=\"text-align: right;\">\n",
       "      <th>testgroup</th>\n",
       "      <th>a</th>\n",
       "      <th>b</th>\n",
       "    </tr>\n",
       "    <tr>\n",
       "      <th>converted</th>\n",
       "      <th></th>\n",
       "      <th></th>\n",
       "    </tr>\n",
       "  </thead>\n",
       "  <tbody>\n",
       "    <tr>\n",
       "      <th>False</th>\n",
       "      <td>200175</td>\n",
       "      <td>200862</td>\n",
       "    </tr>\n",
       "    <tr>\n",
       "      <th>True</th>\n",
       "      <td>1928</td>\n",
       "      <td>1805</td>\n",
       "    </tr>\n",
       "  </tbody>\n",
       "</table>\n",
       "</div>"
      ],
      "text/plain": [
       "testgroup       a       b\n",
       "converted                \n",
       "False      200175  200862\n",
       "True         1928    1805"
      ]
     },
     "execution_count": 206,
     "metadata": {},
     "output_type": "execute_result"
    }
   ],
   "source": [
    "chi_df = task2_df.copy(deep=True)\n",
    "chi_df['converted'] = chi_df.revenue > 0\n",
    "\n",
    "#сформируем таблицу-сопряженности для chi-square\n",
    "chi_df = chi_df.groupby(['testgroup', 'converted'], as_index=False) \\\n",
    "    .agg(user_cnt=('user_id','count')) \\\n",
    "\t.pivot(index='converted',columns='testgroup', values='user_cnt')\n",
    "chi_df"
   ]
  },
  {
   "cell_type": "markdown",
   "metadata": {},
   "source": [
    "Сформулируем гипотезу:\n",
    "<br>*H0* - категориальные переменные (*a*, *b*) независимы, т.е. не имеют статистически значимой связи\n",
    "<br>*H1* - переменные зависимы\n",
    "<br>Уровень значимости $\\alpha = 0.05$"
   ]
  },
  {
   "cell_type": "code",
   "execution_count": 207,
   "metadata": {},
   "outputs": [
    {
     "name": "stdout",
     "output_type": "stream",
     "text": [
      "Отклоняем H0, принимаем гипотезу H1\n",
      "p_value = 0.03647561892312613.\n"
     ]
    }
   ],
   "source": [
    "#используем функцию из пакета scipy.stats.chi2_contingency - тест независимости переменных в таблице сопряженности\n",
    "p_value = stats.chi2_contingency(chi_df)[1]\n",
    "p_value_meaning(p_value)"
   ]
  },
  {
   "cell_type": "markdown",
   "metadata": {},
   "source": [
    "**Вывод по CR**\n",
    "<br >\n",
    "По результатам теста, видим, что p_value < alpha (0.05) следовательно, мы отклоняем гипотезу H0 о том, что категориальные переменные независимы, другими словами, уменьшение конверсии тестовой группы на 0.003 относительно тестовой группы <u>имеет стат. значимые различия</u>"
   ]
  },
  {
   "cell_type": "markdown",
   "metadata": {},
   "source": [
    "---"
   ]
  },
  {
   "cell_type": "markdown",
   "metadata": {},
   "source": [
    "## Вывод по предположению"
   ]
  },
  {
   "cell_type": "markdown",
   "metadata": {},
   "source": [
    "Таким образом при удалении из расчетов пользоватлей с оплатами более 30000 получается, что тестовое предложение более предпочтительнее, так как наблюдается увеличение ARPU, ARPPU, CR. НО!!!, такой подход очень рискованный, мы не знаем где имеено появилась ошибка, на этапе сборки информации, или планировании эксперимента. \n",
    "<u><br>Считаю, правильным решением является повтор эксперимента!</u>"
   ]
  },
  {
   "cell_type": "markdown",
   "metadata": {},
   "source": [
    "---"
   ]
  },
  {
   "cell_type": "markdown",
   "metadata": {},
   "source": [
    "# Задание 3"
   ]
  },
  {
   "cell_type": "markdown",
   "metadata": {},
   "source": [
    "<br>п. 1 - В игре Plants & Gardens каждый месяц проводятся тематические события, ограниченные по времени. В них игроки могут получить уникальные предметы для сада и персонажей, дополнительные монеты или бонусы. Для получения награды требуется пройти ряд уровней за определенное время. С помощью каких метрик можно оценить результаты последнего прошедшего события?\n",
    "<br>п. 2 - Предположим, в другом событии мы усложнили механику событий так, что при каждой неудачной попытке выполнения уровня игрок будет откатываться на несколько уровней назад. Изменится ли набор метрик оценки результата? Если да, то как?"
   ]
  },
  {
   "cell_type": "markdown",
   "metadata": {},
   "source": [
    "<b>п.1</b> \n",
    "<ul>\n",
    "<li>Количество активных пользователей за день, неделю или даже месяц <i>(DAU, WAU, MAU)</i></li>\n",
    "<li>Также хотелось бы посмотреть на <i>Retention rate</i>. Наблюдается ли рост потока пользоватлей в игру (например: человек не играл, но потом новый event привлек его обратно).</li>\n",
    "<li>По аналогии с retention rate, нужно попсмотреть процент оттока игроков из игры (<i>Churn rate</i>). Возможно новое событие не нравится игрокам и они активно забрасывают игру. Если мы будем наблюдать активный отток, без заметного притока как новых, так и старых игроков, есть смысл закончить событие раньше намеченного или изменить условия</li>\n",
    "<li>Среднее время проведенное пользователем в игре (<i>Mean time</i>) до и после события. Можно оценить помогает ли новое событие завлечь внимание пользователя на большее время.</li>\n",
    "<li>Если в нашей игре присутствует финансовая составляющая (покупка чего бы то не было) нужно посчитать <i>ARPU, ARPPU, CR</i></li>\n",
    "<li>Так как для получения наград требуется пройти ряд уровней на время, то нужно посмотреть среднее прохождение одного уровня, всех уровней, и каждого в отдельности. Посмотреть на процент пользоватлей справившихся, процент пользоватлей кто пробовал. Оценить коэффициент успешности, возможно, временные рамки для прохождения уровня слишком задраны и следует их подкорректировать. Оценить отток пользоватлей вызванный однократной, многократной неудачей прохождения уровней и т.д.</li>\n",
    "</ul>\n",
    "<b>п.2</b>\n",
    "<ul>\n",
    "<li>В общем виде набор метрик останется прижним. </li>\n",
    "<li>Следует добавить обязательное тестирование данных на отток пользователей вызванных откатом прогресса после неудачной попытки. </li>\n",
    "<li>Посмотреть сколько успешных прохождений до отката. Возможно уровни слишком несбаллансированы из за чего, у игрока падает мотивация.</li>\n",
    "<li>Оценить процент пользователей успешно завершивших event, к общему числу пользователей.</li>\n",
    "</ul>"
   ]
  }
 ],
 "metadata": {
  "kernelspec": {
   "display_name": "dev_venv",
   "language": "python",
   "name": "python3"
  },
  "language_info": {
   "codemirror_mode": {
    "name": "ipython",
    "version": 3
   },
   "file_extension": ".py",
   "mimetype": "text/x-python",
   "name": "python",
   "nbconvert_exporter": "python",
   "pygments_lexer": "ipython3",
   "version": "3.12.8"
  }
 },
 "nbformat": 4,
 "nbformat_minor": 2
}
